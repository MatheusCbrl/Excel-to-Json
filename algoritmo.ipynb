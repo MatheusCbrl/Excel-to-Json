{
 "cells": [
  {
   "cell_type": "code",
   "execution_count": 1,
   "metadata": {},
   "outputs": [],
   "source": [
    "#Pega arquivo da pasta raiz e formata para .csv arrumado\n",
    "#%%time\n",
    "\n",
    "import pandas as pd\n",
    "import os\n",
    "\n",
    "url =r'C:\\Users\\mathenca\\Python To Json\\fazer'\n",
    "for file in os.listdir(url):\n",
    "    try:\n",
    "        file2 = url + '/' + file\n",
    "        df = pd.read_excel(file2, encoding=\"Latin-1\", converters={i: str for i in range(0, 7)})\n",
    "        df.columns = ['Parada', 'Latitude', 'Longitude',  'Bairros', 'Contato',  'horario de inicio', 'Turno', 'Linha', 'Prestadora']\n",
    "        df_temp = df[['Parada', \"Bairros\"]].copy()\n",
    "        df_temp.dropna(inplace=True)\n",
    "        nome = '-'.join(df_temp['Bairros'])\n",
    "        nome1 = file2 + nome + '.csv'\n",
    "        df.drop(['Bairros', 'Contato', 'Turno'], axis=1, inplace=True)\n",
    "        df.rename(columns={'horario de inicio':'hora','Parada':'id', 'Latitude':'latitude','Longitude':'longitude','Linha':'linha','Prestadora':'prestadora'}, inplace=True)\n",
    "        df.to_csv(nome1, index=False)\n",
    "    except Exception as inst:\n",
    "        print(file)\n",
    "        print(inst)"
   ]
  },
  {
   "cell_type": "code",
   "execution_count": 8,
   "metadata": {},
   "outputs": [],
   "source": [
    "#Pega uma pasta e formata para json simples\n",
    "#%%time\n",
    "import pandas as pd\n",
    "import os\n",
    "import csv\n",
    "import json\n",
    "\n",
    "url =r'C:\\Users\\mathenca\\Python To Json\\noturno sem LL'\n",
    "for file in os.listdir(url):\n",
    "    \n",
    "    try:\n",
    "        new_name = url+'/'+file\n",
    "        with open(new_name) as f:\n",
    "            reader = csv.DictReader(f)\n",
    "            rows = list(reader)\n",
    "            nome = file.split('.')[0]\n",
    "            nome = nome + '.json'\n",
    "        with open(nome, 'w') as f:\n",
    "            json.dump(rows, f)\n",
    "    except Exception as inst:\n",
    "        print(file)\n",
    "        print(inst)"
   ]
  },
  {
   "cell_type": "markdown",
   "metadata": {},
   "source": [
    "# OUTROS CÓDIGOS ABAIXO"
   ]
  },
  {
   "cell_type": "code",
   "execution_count": 1,
   "metadata": {},
   "outputs": [],
   "source": [
    "#Pega arquivo individual e formata para json\n",
    "#%%time\n",
    "import csv\n",
    "import json\n",
    "\n",
    "with open('Linha 14.xlsxSerrano.csv') as f:\n",
    "    reader = csv.DictReader(f)\n",
    "    rows = list(reader)\n",
    "\n",
    "with open('noturno.json', 'w') as f:\n",
    "    json.dump(rows, f)"
   ]
  },
  {
   "cell_type": "code",
   "execution_count": 97,
   "metadata": {},
   "outputs": [],
   "source": [
    "for file in os.listdir('teste'):\n",
    "    with open('teste'+'/'+file) as f:\n",
    "        dicionario = {}\n",
    "        dicionario['coordinates'] = json.load(f)\n",
    "        with open(file, 'w') as f:\n",
    "            json.dump(dicionario, f)"
   ]
  },
  {
   "cell_type": "code",
   "execution_count": 91,
   "metadata": {},
   "outputs": [
    {
     "ename": "FileNotFoundError",
     "evalue": "[Errno 2] No such file or directory: 'teste/Parada Cristal- Iracema-Serrano-Eldorado.csv'",
     "output_type": "error",
     "traceback": [
      "\u001b[1;31m---------------------------------------------------------------------------\u001b[0m",
      "\u001b[1;31mFileNotFoundError\u001b[0m                         Traceback (most recent call last)",
      "\u001b[1;32m<ipython-input-91-9f2aaecc8b68>\u001b[0m in \u001b[0;36m<module>\u001b[1;34m\u001b[0m\n\u001b[1;32m----> 1\u001b[1;33m \u001b[1;32mwith\u001b[0m \u001b[0mopen\u001b[0m\u001b[1;33m(\u001b[0m\u001b[1;34m'teste'\u001b[0m\u001b[1;33m+\u001b[0m\u001b[1;34m'/'\u001b[0m\u001b[1;33m+\u001b[0m\u001b[0mfile\u001b[0m\u001b[1;33m)\u001b[0m \u001b[1;32mas\u001b[0m \u001b[0mf\u001b[0m\u001b[1;33m:\u001b[0m\u001b[1;33m\u001b[0m\u001b[1;33m\u001b[0m\u001b[0m\n\u001b[0m\u001b[0;32m      2\u001b[0m     \u001b[0mjson\u001b[0m\u001b[1;33m.\u001b[0m\u001b[0mload\u001b[0m\u001b[1;33m(\u001b[0m\u001b[0mf\u001b[0m\u001b[1;33m)\u001b[0m\u001b[1;33m\u001b[0m\u001b[1;33m\u001b[0m\u001b[0m\n",
      "\u001b[1;31mFileNotFoundError\u001b[0m: [Errno 2] No such file or directory: 'teste/Parada Cristal- Iracema-Serrano-Eldorado.csv'"
     ]
    }
   ],
   "source": [
    "\n",
    "with open('teste'+'/'+file) as f:\n",
    "    json.load(f)"
   ]
  },
  {
   "cell_type": "code",
   "execution_count": null,
   "metadata": {},
   "outputs": [],
   "source": [
    "#Pega arquivo individual e formata para json com dicionario\n",
    "#%%time\n",
    "import csv\n",
    "import json\n",
    "\n",
    "output = {'coordinates': []}\n",
    "with open('noturno.csv') as csv_file:\n",
    "    for coordinates in csv.DictReader(csv_file):\n",
    "        output['coordinates'].append({\n",
    "            'id': coordinates['id'],\n",
    "            'latitude': coordinates['latitude'],\n",
    "            'longitude': coordinates['longitude'],\n",
    "            'hora': coordinates['hora'],\n",
    "        })\n",
    "output_json = json.dumps(output)\n",
    "\n",
    "with open('noturnos.json', 'w') as f:\n",
    "    json.dump(output, f)"
   ]
  },
  {
   "cell_type": "code",
   "execution_count": null,
   "metadata": {},
   "outputs": [],
   "source": [
    "#Pega arquivo individual e formata com location nas coordenadas e formata para json com dicionario\n",
    "#%%time\n",
    "import csv\n",
    "import json\n",
    "\n",
    "output = {'coordinates': []}\n",
    "with open('noturno.csv') as csv_file:\n",
    "    for coordinates in csv.DictReader(csv_file):\n",
    "        output['coordinates'].append({\n",
    "            'id': coordinates['id'],\n",
    "            'location': {\n",
    "              'latitude': coordinates['latitude'],\n",
    "              'longitude': coordinates['longitude'],\n",
    "             },\n",
    "            'hora': coordinates['hora'],\n",
    "        })\n",
    "output_json = json.dumps(output)\n",
    "\n",
    "with open('noturnos.json', 'w') as f:\n",
    "    json.dump(output, f)"
   ]
  },
  {
   "cell_type": "code",
   "execution_count": 21,
   "metadata": {},
   "outputs": [],
   "source": [
    "#Pega uma pasta e formata para json com dicionario\n",
    "#%%time\n",
    "import pandas as pd\n",
    "import os\n",
    "import csv\n",
    "import json\n",
    "\n",
    "url = r'C:\\Users\\mathenca\\Python To Json\\terceiro'\n",
    "output = {'coordinates': []}\n",
    "for file in os.listdir(url):\n",
    "    try:\n",
    "        new_name = url+'/'+file\n",
    "        with open(new_name) as f:\n",
    "            for coordinates in csv.DictReader(f):\n",
    "                output['coordinates'].append({\n",
    "                 'id': coordinates['id'],\n",
    "                  'latitude': coordinates['latitude'],\n",
    "                  'longitude': coordinates['longitude'],\n",
    "                  'hora': coordinates['hora'],\n",
    "                  'linha': coordinates['linha'],\n",
    "                  'prestadora': coordinates['prestadora'],\n",
    "              })\n",
    "        output_json = json.dumps(output)\n",
    "        nome = file.split('.')[0]\n",
    "        nome = nome + '.json'\n",
    "        \n",
    "        with open(nome, 'w') as f:\n",
    "            json.dump(output, f)\n",
    "    except Exception as inst:\n",
    "        print(file)\n",
    "        print(inst)"
   ]
  },
  {
   "cell_type": "markdown",
   "metadata": {},
   "source": [
    "# JSON TO CSV"
   ]
  },
  {
   "cell_type": "code",
   "execution_count": 8,
   "metadata": {},
   "outputs": [],
   "source": [
    "import pandas as pd\n",
    "from pandas.io.json import json_normalize\n",
    "from pathlib import Path\n",
    "import json\n",
    "\n",
    "# set path to file\n",
    "p = Path(r'C:\\Users\\mathenca\\Python To Json\\trello.json')\n",
    "\n",
    "# read json\n",
    "#with p.open('r', encoding='utf-8') as f:\n",
    "with p.open('r', encoding='Latin-1') as f:\n",
    "    data = json.loads(f.read())\n",
    "\n",
    "# create dataframe\n",
    "df = json_normalize(data)\n",
    "\n",
    "\n",
    "# save to csv\n",
    "#df.to_csv('trello.csv', index=False, encoding='utf-8')\n",
    "df.to_csv('trello.csv', index=True, encoding='Latin-1')"
   ]
  }
 ],
 "metadata": {
  "kernelspec": {
   "display_name": "Python 3",
   "language": "python",
   "name": "python3"
  },
  "language_info": {
   "codemirror_mode": {
    "name": "ipython",
    "version": 3
   },
   "file_extension": ".py",
   "mimetype": "text/x-python",
   "name": "python",
   "nbconvert_exporter": "python",
   "pygments_lexer": "ipython3",
   "version": "3.7.3"
  }
 },
 "nbformat": 4,
 "nbformat_minor": 2
}
